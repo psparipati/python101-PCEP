{
  "nbformat": 4,
  "nbformat_minor": 0,
  "metadata": {
    "colab": {
      "provenance": []
    },
    "kernelspec": {
      "name": "python3",
      "display_name": "Python 3"
    },
    "language_info": {
      "name": "python"
    }
  },
  "cells": [
    {
      "cell_type": "code",
      "execution_count": null,
      "metadata": {
        "id": "OqvGywGjPWm2"
      },
      "outputs": [],
      "source": [
        "#@title Assignment 12\n",
        "\n",
        "def telephone(number):\n",
        "  number = str(number)\n",
        "  new_number = ''\n",
        "  for i in number:\n",
        "    if (i == 'A') or (i == 'a') or (i == 'B') or (i == 'b') or (i == 'C') or (i == 'c'):\n",
        "      new_number = new_number + '2'\n",
        "    elif (i == 'D') or (i == 'd') or (i == 'E') or (i == 'e') or (i == 'F') or (i == 'f'):\n",
        "      new_number = new_number + '3'\n",
        "    elif (i == 'G') or (i == 'g') or (i == 'H') or (i == 'h') or (i == 'I') or (i == 'i'):\n",
        "      new_number = new_number + '4'\n",
        "    elif (i == 'J') or (i == 'j') or (i == 'K') or (i == 'k') or (i == 'L') or (i == 'l'):\n",
        "      new_number = new_number + '5'\n",
        "    elif (i == 'M') or (i == 'm') or (i == 'N') or (i == 'n') or (i == 'O') or (i == 'o'):\n",
        "      new_number = new_number + '6'\n",
        "    elif (i == 'P') or (i == 'p') or (i == 'Q') or (i == 'q') or (i == 'R') or (i == 'r') or (i == 'S') or (i == 's'):\n",
        "      new_number = new_number + '7'\n",
        "    elif (i == 'T') or (i == 't') or (i == 'U') or (i == 'u') or (i == 'V') or (i == 'v'):\n",
        "      new_number = new_number + '8'\n",
        "    elif (i == 'W') or (i == 'w') or (i == 'X') or (i == 'x') or (i == 'Y') or (i == 'y') or (i == 'Z') or (i == 'z'):\n",
        "      new_number = new_number + '9'\n",
        "    else:\n",
        "      new_number = new_number + i\n",
        "  return new_number\n",
        "\n",
        "telephone('456-456-HELP')"
      ]
    }
  ]
}