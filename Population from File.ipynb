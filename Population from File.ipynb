{
  "nbformat": 4,
  "nbformat_minor": 0,
  "metadata": {
    "colab": {
      "provenance": []
    },
    "kernelspec": {
      "name": "python3",
      "display_name": "Python 3"
    },
    "language_info": {
      "name": "python"
    }
  },
  "cells": [
    {
      "cell_type": "code",
      "execution_count": null,
      "metadata": {
        "colab": {
          "base_uri": "https://localhost:8080/"
        },
        "id": "KTV0zcH4WnBi",
        "outputId": "ab9dc1a5-316a-4732-d6cb-395f12c91c0a"
      },
      "outputs": [
        {
          "output_type": "stream",
          "name": "stdout",
          "text": [
            "Average Change: 6241\n",
            "Greatest Change: 95641\n",
            "Least Change: 2114\n"
          ]
        }
      ],
      "source": [
        "population_file = open('USPopulation.txt', 'r')\n",
        "lines = population_file.readlines()\n",
        "lines = [int(y) for y in lines]\n",
        "average_change = 0\n",
        "x2 = 0\n",
        "greatest = max(lines)\n",
        "greatest2 = 0\n",
        "least = min(lines)\n",
        "lines.remove(least)\n",
        "least2 = min(lines)\n",
        "for x in lines:\n",
        "  x = int(x)\n",
        "  average_change += x - x2\n",
        "  if ((greatest - x) > greatest2):\n",
        "    greatest2 = greatest - x\n",
        "  x2 = x\n",
        "print('Average Change:', round(average_change/len(lines)))\n",
        "print('Greatest Change:', greatest2)\n",
        "print('Least Change:', least2 - least)"
      ]
    }
  ]
}